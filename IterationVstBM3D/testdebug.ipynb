{
 "cells": [
  {
   "cell_type": "code",
   "execution_count": 55,
   "metadata": {},
   "outputs": [],
   "source": [
    "import numpy as np\n",
    "import matlab.engine\n",
    "import matplotlib.pyplot as plt\n",
    "\n",
    "def Matlab(x, y):\n",
    "    # 启动matlab，调用matlab内置函数\n",
    "    eng = matlab.engine.start_matlab()\n",
    "    a = eng.demo_python(x, y)\n",
    "    print(a)\n",
    "\n",
    "def vstBm3d(noisy, K):\n",
    "    eng = matlab.engine.start_matlab()\n",
    "    noisy = noisy.tolist()\n",
    "    denoise = eng.demo_python(matlab.double(noisy), K)\n",
    "    return np.array(denoise)"
   ]
  },
  {
   "cell_type": "code",
   "execution_count": 56,
   "metadata": {},
   "outputs": [
    {
     "data": {
      "text/plain": [
       "((256, 256), 255, 0)"
      ]
     },
     "execution_count": 56,
     "metadata": {},
     "output_type": "execute_result"
    }
   ],
   "source": [
    "img = np.random.randint(low=0, high=256, size=(256, 256))\n",
    "img.shape, img.max(), img.min()"
   ]
  },
  {
   "cell_type": "code",
   "execution_count": 57,
   "metadata": {},
   "outputs": [],
   "source": [
    "# 归一化\n",
    "gt = (img / 255.0).astype(np.float32)"
   ]
  },
  {
   "cell_type": "code",
   "execution_count": 58,
   "metadata": {},
   "outputs": [],
   "source": [
    "peak = 4.0\n",
    "gt = gt * peak "
   ]
  },
  {
   "cell_type": "code",
   "execution_count": 51,
   "metadata": {},
   "outputs": [],
   "source": [
    "noisy = (np.random.poisson(gt) / peak).astype(np.float32)"
   ]
  },
  {
   "cell_type": "code",
   "execution_count": 59,
   "metadata": {},
   "outputs": [],
   "source": [
    "denoise = vstBm3d(noisy, 1)"
   ]
  },
  {
   "cell_type": "code",
   "execution_count": 61,
   "metadata": {},
   "outputs": [],
   "source": [
    "x = np.array(denoise)"
   ]
  },
  {
   "cell_type": "code",
   "execution_count": 62,
   "metadata": {},
   "outputs": [
    {
     "data": {
      "text/plain": [
       "array([[0.52651719, 0.52668134, 0.52669826, ..., 0.52458966, 0.52451859,\n",
       "        0.52449871],\n",
       "       [0.52564561, 0.52603819, 0.5260906 , ..., 0.52447626, 0.5244019 ,\n",
       "        0.52439611],\n",
       "       [0.5256221 , 0.52601301, 0.52602827, ..., 0.52423668, 0.52416251,\n",
       "        0.52412877],\n",
       "       ...,\n",
       "       [0.53085742, 0.53103858, 0.5310719 , ..., 0.51512271, 0.51382417,\n",
       "        0.51297482],\n",
       "       [0.53090277, 0.53115078, 0.53125535, ..., 0.51551836, 0.51410128,\n",
       "        0.51304982],\n",
       "       [0.53164521, 0.53160855, 0.53157556, ..., 0.51660006, 0.51508696,\n",
       "        0.5133081 ]])"
      ]
     },
     "execution_count": 62,
     "metadata": {},
     "output_type": "execute_result"
    }
   ],
   "source": [
    "x"
   ]
  },
  {
   "cell_type": "code",
   "execution_count": null,
   "metadata": {},
   "outputs": [],
   "source": []
  }
 ],
 "metadata": {
  "interpreter": {
   "hash": "ec216a378779529b4f52de1e265baff0f3a673565c1afa39d346930cb84ac687"
  },
  "kernelspec": {
   "display_name": "Python 3.8.12 64-bit ('pytorch_11_3': conda)",
   "language": "python",
   "name": "python3"
  },
  "language_info": {
   "codemirror_mode": {
    "name": "ipython",
    "version": 3
   },
   "file_extension": ".py",
   "mimetype": "text/x-python",
   "name": "python",
   "nbconvert_exporter": "python",
   "pygments_lexer": "ipython3",
   "version": "3.8.12"
  },
  "orig_nbformat": 4
 },
 "nbformat": 4,
 "nbformat_minor": 2
}
